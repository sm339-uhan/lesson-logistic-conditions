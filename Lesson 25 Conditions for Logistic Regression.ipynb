{
 "cells": [
  {
   "cell_type": "markdown",
   "id": "39181a5b-2d86-4933-9d18-af2d23f70642",
   "metadata": {
    "editable": true,
    "slideshow": {
     "slide_type": ""
    },
    "tags": []
   },
   "source": [
    "**SM339 &#x25aa; Applied Statistics &#x25aa; Spring 2024 &#x25aa; Uhan**"
   ]
  },
  {
   "cell_type": "markdown",
   "id": "2a590765-c9bd-48ad-8ee3-0b208414cc91",
   "metadata": {},
   "source": [
    "# Lesson 25. Conditions for Logistic Regression"
   ]
  },
  {
   "cell_type": "markdown",
   "id": "e5270456-8cbc-4339-8a54-91a788783269",
   "metadata": {
    "tags": []
   },
   "source": [
    "## Overview"
   ]
  },
  {
   "cell_type": "markdown",
   "id": "8583ab5a-6f80-4805-935f-d3a2946091cd",
   "metadata": {},
   "source": [
    "* Model (logit form):\n",
    "\n",
    "    $$ \\log \\left( \\frac{\\pi}{1 - \\pi} \\right) = \\beta_ 0 + \\beta_1 X \\qquad \\pi = P(Y = 1) $$ \n",
    "\n",
    "    * $Y$ = binary response variable\n",
    "    * $X$ = explanatory variable, quantitative or categorical"
   ]
  },
  {
   "cell_type": "markdown",
   "id": "06e6b067-c451-4aaf-857d-5f156bfd3c23",
   "metadata": {},
   "source": [
    "* We have three conditions to check for logistic regression:\n",
    "\n",
    "    1. __Randomness__ &nbsp;&larr;&nbsp; think about data collection\n",
    "    2. __Independence__ &nbsp;&larr;&nbsp; think about data collection\n",
    "    3. __Linearity__ &nbsp;&larr;&nbsp; check with a plot"
   ]
  },
  {
   "cell_type": "markdown",
   "id": "78d74783-ca16-4dcf-9b6a-1f77334b6cfb",
   "metadata": {},
   "source": [
    "## Randomness"
   ]
  },
  {
   "cell_type": "markdown",
   "id": "0b544062-0896-4332-b9fd-e7a5aef38894",
   "metadata": {},
   "source": [
    "* It needs to make sense that for a given predictor value, __the outcome is random__\n",
    "    * Specifically, the outcome needs to be approximately Bernoulli<br><br>\n",
    "* Random sampling and randomized assignment are the gold standard"
   ]
  },
  {
   "cell_type": "markdown",
   "id": "deccc4ae-8abb-431a-b4b6-849b22be2ad4",
   "metadata": {},
   "source": [
    "### Example 1\n",
    "\n",
    "Recall the `MedGPA` data and scenario from previous lessons...\n",
    "\n",
    "The data stored in `MedGPA` contains information about 55 medical school applicants from a liberal arts college in the Midwest. In particular, for each applicant, we have whether they were accepted to medical school ($\\mathit{Acceptance}$ = 1 if accepted, 0 if denied) and their $\\mathit{GPA}$.\n",
    "\n",
    "Suppose we want to predict $\\mathit{Acceptance}$ based on $\\mathit{GPA}$ using a logistic regression model.\n",
    "\n",
    "Is randomness satisfied here?"
   ]
  },
  {
   "cell_type": "markdown",
   "id": "0ae661fe-8955-4a6e-973c-92d49742d34b",
   "metadata": {},
   "source": [
    "*Write your notes here. Double-click to edit.*"
   ]
  },
  {
   "cell_type": "markdown",
   "id": "9e6182f1-4c5e-4aff-9adf-f42b5c2b1af7",
   "metadata": {
    "editable": true,
    "slideshow": {
     "slide_type": ""
    },
    "tags": []
   },
   "source": [
    "## Independence"
   ]
  },
  {
   "cell_type": "markdown",
   "id": "b9d43bd0-2ac3-4e22-8cdf-cab3e806eb5f",
   "metadata": {
    "editable": true,
    "slideshow": {
     "slide_type": ""
    },
    "tags": []
   },
   "source": [
    "- The outcomes need to be independent after accounting for the predictor value\n",
    "\n",
    "- Are the observational units related to each other?\n",
    "\n",
    "- Common things to consider:\n",
    "    - __Time.__ Are the results from a time-ordered process? If so, is it reasonable to think that one outcome does not influence the next outcome in the sequence?\n",
    "    - __Space.__ If your observational units have a spatial relationship, is it reasonable to think that the outcome for one unit is independent of the nearby units?\n",
    "    - __The yes/no decision.__ Are the yes/no decisions subjective? Do they depend on each other?"
   ]
  },
  {
   "cell_type": "markdown",
   "id": "4fa0de8d-bb19-485b-901a-6bcf1815c385",
   "metadata": {
    "editable": true,
    "slideshow": {
     "slide_type": ""
    },
    "tags": []
   },
   "source": [
    "### Example 2\n",
    "\n",
    "Going back to Example 1... Is independence satisfied here? "
   ]
  },
  {
   "cell_type": "markdown",
   "id": "0360d6ee-1c79-4047-ace8-c92e60ccd432",
   "metadata": {
    "editable": true,
    "slideshow": {
     "slide_type": ""
    },
    "tags": []
   },
   "source": [
    "*Write your answer here. Double-click to edit.*"
   ]
  },
  {
   "cell_type": "markdown",
   "id": "3cdb3e92-6a5f-44ac-b11b-b7fd323d3495",
   "metadata": {
    "editable": true,
    "slideshow": {
     "slide_type": ""
    },
    "tags": []
   },
   "source": [
    "## Linearity\n",
    "\n",
    "* In the logistic model, $\\text{logit}(\\pi) = \\log\\left(\\frac{\\pi}{1 - \\pi}\\right)$ has a linear relationship with the explanatory variable\n",
    "\n",
    "* We will plot the _empirical logits_ (i.e., logits based on observed values) versus the explanatory variable to check for linearity\n",
    "\n",
    "* The __empirical logit__ is\n",
    "\n",
    "    $$ \\text{logit}(\\hat{p}) = \\log\\left(\\frac{\\hat{p}}{1 - \\hat{p}}\\right) $$\n",
    "\n",
    "    * Recall that $\\hat{p}$ is the estimated \"unconstrained\" probability:\n",
    "        \n",
    "        $$ \\hat{p} = \\frac{\\#(Y = 1)}{\\#(Y = 1) + \\#(Y = 0)} $$"
   ]
  },
  {
   "cell_type": "markdown",
   "id": "59a71f6b-1370-4037-8109-5107892dfd1e",
   "metadata": {},
   "source": [
    "### Case 1. Binary predictor\n",
    "\n",
    "1. With a binary predictor, the empirical logit plot only has two points, so the model fits a line to them exactly.\n",
    "\n",
    "2. Therefore, the linearity condition is automatically met."
   ]
  },
  {
   "cell_type": "markdown",
   "id": "fcdcb0be-0f85-4f63-ab8a-08326f1c2fd8",
   "metadata": {},
   "source": [
    "### Case 2. Quantitative predictor\n",
    "\n",
    "1. Divide the range of $X$ into intervals with roughly equal numbers of observations.\n",
    "\n",
    "2. Compute $\\hat{p}$ for each interval.\n",
    "\n",
    "3. Compute $\\text{logit}(\\hat{p})$ for each interval.\n",
    "\n",
    "4. Plot $\\text{logit}(\\hat{p})$ versus the mean predictor value for each interval (i.e., one point per interval). Assess whether you see a linear trend."
   ]
  },
  {
   "cell_type": "markdown",
   "id": "4997e58e-8511-4f6f-8a6d-1ed205447bbe",
   "metadata": {
    "editable": true,
    "slideshow": {
     "slide_type": ""
    },
    "tags": []
   },
   "source": [
    "* We can use R to do most of the steps above for us, with the `emplogitplot1()` function from the `Stat2Data` library"
   ]
  },
  {
   "cell_type": "markdown",
   "id": "c815651d-8c8f-43b1-b641-a38cf72be340",
   "metadata": {},
   "source": [
    "### Example 3"
   ]
  },
  {
   "cell_type": "markdown",
   "id": "43d57af8-b134-421e-9222-77462edd6a47",
   "metadata": {},
   "source": [
    "Going back to Example 1... Is linearity satisfied here?"
   ]
  },
  {
   "cell_type": "code",
   "execution_count": null,
   "id": "f33f8274-afad-4c12-bd9f-fa3f97ca07bd",
   "metadata": {},
   "outputs": [],
   "source": []
  },
  {
   "cell_type": "markdown",
   "id": "8b725a57-5d6b-406e-94a4-0a7c4399c221",
   "metadata": {},
   "source": [
    "*Write your notes here. Double-click to edit.*"
   ]
  },
  {
   "cell_type": "markdown",
   "id": "f4ce85a3-9670-4760-b12c-b7a16ae0bc35",
   "metadata": {
    "editable": true,
    "slideshow": {
     "slide_type": ""
    },
    "tags": []
   },
   "source": [
    "* Note that we can control the number of intervals, or groups, using the `ngroups = ... ` keyword argument\n",
    "\n",
    "* How many intervals should you use? If you have enough cases, at least four or five intervals\n",
    "    - Two intervals will only give you a sense of the direction and size of the relationship\n",
    "    - Three intervals will also give you an indication of departures from linearity, but not much information about whether the departure is systematic or chance-like"
   ]
  },
  {
   "cell_type": "markdown",
   "id": "1b891a62-f146-48a3-8069-6d6c8fa4161f",
   "metadata": {},
   "source": [
    "## After checking the conditions...\n"
   ]
  },
  {
   "cell_type": "markdown",
   "id": "89534593-6ebf-465a-82db-93a637ea10a8",
   "metadata": {},
   "source": [
    "* If linearity is not met, we could try a __transformation__ on the quantitative predictor\n",
    "\n",
    "* As long as __linearity__ is met, we can use the model for describing patterns \n",
    "\n",
    "* If all the conditions are met, we can do __inference__ such as conducting hypothesis tests and constructing CIs\n",
    "    - We will cover this in the next lesson..."
   ]
  }
 ],
 "metadata": {
  "kernelspec": {
   "display_name": "R",
   "language": "R",
   "name": "ir"
  },
  "language_info": {
   "codemirror_mode": "r",
   "file_extension": ".r",
   "mimetype": "text/x-r-source",
   "name": "R",
   "pygments_lexer": "r",
   "version": "4.3.2"
  }
 },
 "nbformat": 4,
 "nbformat_minor": 5
}
